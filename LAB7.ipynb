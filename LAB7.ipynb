{
  "nbformat": 4,
  "nbformat_minor": 0,
  "metadata": {
    "colab": {
      "name": "LAB7.ipynb",
      "provenance": [],
      "collapsed_sections": [],
      "toc_visible": true,
      "include_colab_link": true
    },
    "kernelspec": {
      "name": "python3",
      "display_name": "Python 3"
    },
    "language_info": {
      "name": "python"
    }
  },
  "cells": [
    {
      "cell_type": "markdown",
      "metadata": {
        "id": "view-in-github",
        "colab_type": "text"
      },
      "source": [
        "<a href=\"https://colab.research.google.com/github/Rakeshsharma0068/DSA/blob/master/LAB7.ipynb\" target=\"_parent\"><img src=\"https://colab.research.google.com/assets/colab-badge.svg\" alt=\"Open In Colab\"/></a>"
      ]
    },
    {
      "cell_type": "markdown",
      "metadata": {
        "id": "0SYfrPAxrXKN"
      },
      "source": [
        "# 1. Matrix and Vector Products\n"
      ]
    },
    {
      "cell_type": "markdown",
      "metadata": {
        "id": "iE7uZis-ra5V"
      },
      "source": [
        "## 1.1 Dot Product, Inner Product and Outer Product\n"
      ]
    },
    {
      "cell_type": "code",
      "metadata": {
        "colab": {
          "base_uri": "https://localhost:8080/"
        },
        "id": "u14ba82KrZzv",
        "outputId": "3a758746-f641-4f07-f4c3-65cb03cd0273"
      },
      "source": [
        "import time\n",
        "start_time=time.time()\n",
        "import numpy as np\n",
        "print(np.dot(3,4))\n",
        "print(np.dot([2, 3], [2, 3]))\n",
        "print(np.dot([[2, 3]], [2, 3])) \n",
        "print(np.dot([2j, 3j], [2j, 3j]))\n",
        "a = [[1, 0], [0, 1]]  \n",
        "b = [[4, 1], [2, 2]]\n",
        "print(np.dot(a,b)) #instead of 2*2 matrix give matrices of size 2000*2000(all values 1)\n",
        "print(np.vdot(a,b)) #How vdot is working ?\n",
        "print(np.inner(np.eye(10),3))\n",
        "a=np.array([1,2,3,4,5,6])\n",
        "b=np.array([1,2,3,4,5,6])\n",
        "print(np.outer(a,b))\n",
        "print(np.inner(a,b)) #change b to np.array([1,2,3])\n",
        "print(\"Execution time \",time.time()-start_time)"
      ],
      "execution_count": 42,
      "outputs": [
        {
          "output_type": "stream",
          "text": [
            "12\n",
            "13\n",
            "[13]\n",
            "(-13+0j)\n",
            "[[4 1]\n",
            " [2 2]]\n",
            "6\n",
            "[[3. 0. 0. 0. 0. 0. 0. 0. 0. 0.]\n",
            " [0. 3. 0. 0. 0. 0. 0. 0. 0. 0.]\n",
            " [0. 0. 3. 0. 0. 0. 0. 0. 0. 0.]\n",
            " [0. 0. 0. 3. 0. 0. 0. 0. 0. 0.]\n",
            " [0. 0. 0. 0. 3. 0. 0. 0. 0. 0.]\n",
            " [0. 0. 0. 0. 0. 3. 0. 0. 0. 0.]\n",
            " [0. 0. 0. 0. 0. 0. 3. 0. 0. 0.]\n",
            " [0. 0. 0. 0. 0. 0. 0. 3. 0. 0.]\n",
            " [0. 0. 0. 0. 0. 0. 0. 0. 3. 0.]\n",
            " [0. 0. 0. 0. 0. 0. 0. 0. 0. 3.]]\n",
            "[[ 1  2  3  4  5  6]\n",
            " [ 2  4  6  8 10 12]\n",
            " [ 3  6  9 12 15 18]\n",
            " [ 4  8 12 16 20 24]\n",
            " [ 5 10 15 20 25 30]\n",
            " [ 6 12 18 24 30 36]]\n",
            "91\n",
            "Execution time  0.003309965133666992\n"
          ],
          "name": "stdout"
        }
      ]
    },
    {
      "cell_type": "markdown",
      "metadata": {
        "id": "Nqo2k2tormqN"
      },
      "source": [
        "instead of 2 * 2 matrix give matrices of size 2000*2000(all values 1)"
      ]
    },
    {
      "cell_type": "code",
      "metadata": {
        "colab": {
          "base_uri": "https://localhost:8080/"
        },
        "id": "63-41GHBrfHU",
        "outputId": "2bce0344-54e7-466a-bddd-6ba069af3f34"
      },
      "source": [
        "start_time=time.time()\n",
        "a = np.ones((2000,2000))\n",
        "b = np.ones((2000,2000))\n",
        "print(np.dot(a,b))\n",
        "print(\"Execution time \",time.time()-start_time)"
      ],
      "execution_count": 35,
      "outputs": [
        {
          "output_type": "stream",
          "text": [
            "[[2000. 2000. 2000. ... 2000. 2000. 2000.]\n",
            " [2000. 2000. 2000. ... 2000. 2000. 2000.]\n",
            " [2000. 2000. 2000. ... 2000. 2000. 2000.]\n",
            " ...\n",
            " [2000. 2000. 2000. ... 2000. 2000. 2000.]\n",
            " [2000. 2000. 2000. ... 2000. 2000. 2000.]\n",
            " [2000. 2000. 2000. ... 2000. 2000. 2000.]]\n",
            "Execution time  0.4953157901763916\n"
          ],
          "name": "stdout"
        }
      ]
    },
    {
      "cell_type": "markdown",
      "metadata": {
        "id": "L1X3RcLRsGPF"
      },
      "source": [
        "**How vdot is working ?**\n",
        "\n",
        "Compared to dot, vdot handles complex numbers in a different manner. if the first argument is complex then complex conjugate of the first arugment is used for the calculation of the dot product."
      ]
    },
    {
      "cell_type": "markdown",
      "metadata": {
        "id": "XIy2lnZBstPf"
      },
      "source": [
        " change b to np.array([1,2,3])"
      ]
    },
    {
      "cell_type": "code",
      "metadata": {
        "colab": {
          "base_uri": "https://localhost:8080/",
          "height": 330
        },
        "id": "w7KycjHDr7UU",
        "outputId": "bdfa7ec3-d60f-474b-f1e4-8210cf1510b4"
      },
      "source": [
        "a=np.array([1,2,3,4,5,6])\n",
        "b=np.array([1,2,3])\n",
        "print(np.outer(a,b))\n",
        "print(np.inner(a,b)) \n"
      ],
      "execution_count": 36,
      "outputs": [
        {
          "output_type": "stream",
          "text": [
            "[[ 1  2  3]\n",
            " [ 2  4  6]\n",
            " [ 3  6  9]\n",
            " [ 4  8 12]\n",
            " [ 5 10 15]\n",
            " [ 6 12 18]]\n"
          ],
          "name": "stdout"
        },
        {
          "output_type": "error",
          "ename": "ValueError",
          "evalue": "ignored",
          "traceback": [
            "\u001b[0;31m---------------------------------------------------------------------------\u001b[0m",
            "\u001b[0;31mValueError\u001b[0m                                Traceback (most recent call last)",
            "\u001b[0;32m<ipython-input-36-623ad0d8ddcc>\u001b[0m in \u001b[0;36m<module>\u001b[0;34m()\u001b[0m\n\u001b[1;32m      2\u001b[0m \u001b[0mb\u001b[0m\u001b[0;34m=\u001b[0m\u001b[0mnp\u001b[0m\u001b[0;34m.\u001b[0m\u001b[0marray\u001b[0m\u001b[0;34m(\u001b[0m\u001b[0;34m[\u001b[0m\u001b[0;36m1\u001b[0m\u001b[0;34m,\u001b[0m\u001b[0;36m2\u001b[0m\u001b[0;34m,\u001b[0m\u001b[0;36m3\u001b[0m\u001b[0;34m]\u001b[0m\u001b[0;34m)\u001b[0m\u001b[0;34m\u001b[0m\u001b[0;34m\u001b[0m\u001b[0m\n\u001b[1;32m      3\u001b[0m \u001b[0mprint\u001b[0m\u001b[0;34m(\u001b[0m\u001b[0mnp\u001b[0m\u001b[0;34m.\u001b[0m\u001b[0mouter\u001b[0m\u001b[0;34m(\u001b[0m\u001b[0ma\u001b[0m\u001b[0;34m,\u001b[0m\u001b[0mb\u001b[0m\u001b[0;34m)\u001b[0m\u001b[0;34m)\u001b[0m\u001b[0;34m\u001b[0m\u001b[0;34m\u001b[0m\u001b[0m\n\u001b[0;32m----> 4\u001b[0;31m \u001b[0mprint\u001b[0m\u001b[0;34m(\u001b[0m\u001b[0mnp\u001b[0m\u001b[0;34m.\u001b[0m\u001b[0minner\u001b[0m\u001b[0;34m(\u001b[0m\u001b[0ma\u001b[0m\u001b[0;34m,\u001b[0m\u001b[0mb\u001b[0m\u001b[0;34m)\u001b[0m\u001b[0;34m)\u001b[0m\u001b[0;34m\u001b[0m\u001b[0;34m\u001b[0m\u001b[0m\n\u001b[0m",
            "\u001b[0;32m<__array_function__ internals>\u001b[0m in \u001b[0;36minner\u001b[0;34m(*args, **kwargs)\u001b[0m\n",
            "\u001b[0;31mValueError\u001b[0m: shapes (6,) and (3,) not aligned: 6 (dim 0) != 3 (dim 0)"
          ]
        }
      ]
    },
    {
      "cell_type": "markdown",
      "metadata": {
        "id": "2XKNEnXDs7gR"
      },
      "source": [
        "## 1.2 Matrix Multiplication, Trace, Diagonal and Transpose"
      ]
    },
    {
      "cell_type": "code",
      "metadata": {
        "colab": {
          "base_uri": "https://localhost:8080/"
        },
        "id": "cnWOwvzls02N",
        "outputId": "5b741d69-0f04-4225-b16d-1b3fe50b1169"
      },
      "source": [
        "import time\n",
        "start_time=time.time()\n",
        "import numpy as np\n",
        "a = [[1, 0], [0, 1]]  \n",
        "b = [[4, 1], [2, 2]]\n",
        "c=7\n",
        "print(\"Dot Product of a and b is \",np.dot(a,b))\n",
        "print(\"Dot Product of a and c is \",np.dot(a,c))\n",
        "print(\"Matrix a multiplied by Matrix b is \",np.matmul(a,b)) #instead of b give c\n",
        "print(\"Trace of a is \",np.trace(a))\n",
        "print(\"Diagonal elements of a \",np.diag(a))\n",
        "print(\"Transpose of b\",np.transpose(b))\n",
        "print(\"Execution time \",time.time()-start_time)"
      ],
      "execution_count": 37,
      "outputs": [
        {
          "output_type": "stream",
          "text": [
            "Dot Product of a and b is  [[4 1]\n",
            " [2 2]]\n",
            "Dot Product of a and c is  [[7 0]\n",
            " [0 7]]\n",
            "Matrix a multiplied by Matrix b is  [[4 1]\n",
            " [2 2]]\n",
            "Trace of a is  2\n",
            "Diagonal elements of a  [1 1]\n",
            "Transpose of b [[4 2]\n",
            " [1 2]]\n",
            "Execution time  0.0023851394653320312\n"
          ],
          "name": "stdout"
        }
      ]
    },
    {
      "cell_type": "markdown",
      "metadata": {
        "id": "zcFyZvjHtE1P"
      },
      "source": [
        "instead of b give c"
      ]
    },
    {
      "cell_type": "code",
      "metadata": {
        "colab": {
          "base_uri": "https://localhost:8080/"
        },
        "id": "GGKU1nkItCpI",
        "outputId": "96e3bc7e-b2a3-455f-dc82-dd1183af9780"
      },
      "source": [
        "import time\n",
        "start_time=time.time()\n",
        "import numpy as np\n",
        "a = [[1, 0], [0, 1]]  \n",
        "b = [[4, 1], [2, 2]]\n",
        "c=7\n",
        "print(\"Dot Product of a and b is \",np.dot(a,b))\n",
        "print(\"Dot Product of a and c is \",np.dot(a,c))\n",
        "print(\"Matrix a multiplied by Matrix b is \",np.matmul(a,b))\n",
        "print(\"Trace of a is \",np.trace(a))\n",
        "print(\"Diagonal elements of a \",np.diag(a))\n",
        "print(\"Transpose of b\",np.transpose(b))\n",
        "print(\"Execution time \",time.time()-start_time)"
      ],
      "execution_count": 38,
      "outputs": [
        {
          "output_type": "stream",
          "text": [
            "Dot Product of a and b is  [[4 1]\n",
            " [2 2]]\n",
            "Dot Product of a and c is  [[7 0]\n",
            " [0 7]]\n",
            "Matrix a multiplied by Matrix b is  [[4 1]\n",
            " [2 2]]\n",
            "Trace of a is  2\n",
            "Diagonal elements of a  [1 1]\n",
            "Transpose of b [[4 2]\n",
            " [1 2]]\n",
            "Execution time  0.006510496139526367\n"
          ],
          "name": "stdout"
        }
      ]
    },
    {
      "cell_type": "markdown",
      "metadata": {
        "id": "ztD9QwKKtOTJ"
      },
      "source": [
        "## 1.3 Sum, Mean and Variance"
      ]
    },
    {
      "cell_type": "code",
      "metadata": {
        "colab": {
          "base_uri": "https://localhost:8080/"
        },
        "id": "E401-h9wtJex",
        "outputId": "32106cbb-9f2d-4bb2-8721-894748567034"
      },
      "source": [
        "import time\n",
        "start_time=time.time()\n",
        "import numpy as np\n",
        "a = [[1, 0], [0, 1]]  \n",
        "b = [[4, 1], [2, 2]]\n",
        "print(\"Sum of b is \",np.sum(b))\n",
        "print(\"Rowwise sum of b is \",np.sum(b,axis=1)) #Try axis=0\n",
        "print(\"Average of b is \",np.mean(b))\n",
        "print(\"Rowwise average of b is \",np.mean(b,axis=1)) #Try axis=0\n",
        "print(\"Variance of b is \",np.var(b))\n",
        "print(\"Rowwise variance of b is \",np.var(b,axis=1)) #Try axis=0\n",
        "print(\"Execution time \",time.time()-start_time)"
      ],
      "execution_count": 39,
      "outputs": [
        {
          "output_type": "stream",
          "text": [
            "Sum of b is  9\n",
            "Rowwise sum of b is  [5 4]\n",
            "Average of b is  2.25\n",
            "Rowwise average of b is  [2.5 2. ]\n",
            "Variance of b is  1.1875\n",
            "Rowwise variance of b is  [2.25 0.  ]\n",
            "Execution time  0.006849527359008789\n"
          ],
          "name": "stdout"
        }
      ]
    },
    {
      "cell_type": "code",
      "metadata": {
        "id": "Ix81YM9XtWIA"
      },
      "source": [
        "import time\n",
        "start_time=time.time()\n",
        "import numpy as np\n",
        "a = [[1, 0], [0, 1]]  \n",
        "b = [[4, 1], [2, 2]]\n",
        "print(\"Sum of b is \",np.sum(b))\n",
        "print(\"Rowwise sum of b is \",np.sum(b,axis=0)) \n",
        "print(\"Average of b is \",np.mean(b))\n",
        "print(\"Rowwise average of b is \",np.mean(b,axis=0)) \n",
        "print(\"Variance of b is \",np.var(b))\n",
        "print(\"Rowwise variance of b is \",np.var(b,axis=0)) \n",
        "print(\"Execution time \",time.time()-start_time)"
      ],
      "execution_count": null,
      "outputs": []
    },
    {
      "cell_type": "markdown",
      "metadata": {
        "id": "-A0PL9jRtrbr"
      },
      "source": [
        "## 1.4 Kronecker Product"
      ]
    },
    {
      "cell_type": "code",
      "metadata": {
        "colab": {
          "base_uri": "https://localhost:8080/"
        },
        "id": "NcbSNyIetozR",
        "outputId": "bd99c336-4f8d-4687-b62f-f3ec88863a61"
      },
      "source": [
        "import time\n",
        "start_time=time.time()\n",
        "import numpy as np\n",
        "print(np.kron(np.eye(2), np.ones((2,2))))\n",
        "print(\"Execution time \",time.time()-start_time)"
      ],
      "execution_count": 9,
      "outputs": [
        {
          "output_type": "stream",
          "text": [
            "[[1. 1. 0. 0.]\n",
            " [1. 1. 0. 0.]\n",
            " [0. 0. 1. 1.]\n",
            " [0. 0. 1. 1.]]\n",
            "Execution time  0.004508495330810547\n"
          ],
          "name": "stdout"
        }
      ]
    },
    {
      "cell_type": "markdown",
      "metadata": {
        "id": "OaOg_TretwCQ"
      },
      "source": [
        "# 2.Linear algebra Library"
      ]
    },
    {
      "cell_type": "markdown",
      "metadata": {
        "id": "21H7b98utyjY"
      },
      "source": [
        "## 2.1 Power, Determinant, Inverse, Rank of a Matrix"
      ]
    },
    {
      "cell_type": "code",
      "metadata": {
        "colab": {
          "base_uri": "https://localhost:8080/"
        },
        "id": "jTz5EZmEtu9l",
        "outputId": "80acc83c-f59a-478d-c411-4bebe1f075db"
      },
      "source": [
        "import time\n",
        "start_time=time.time()\n",
        "import numpy as np \n",
        "a=np.array([[1 ,2],[1,4]])  #change [1,4] to [2,4]\n",
        "print(np.linalg.matrix_power(a,3)) #Try 15 instead of 3\n",
        "print(np.linalg.matrix_rank(a))\n",
        "print(np.linalg.det(a)) #type output to int\n",
        "print(np.linalg.inv(a))\n",
        "print(\"Execution time \",time.time()-start_time)"
      ],
      "execution_count": 10,
      "outputs": [
        {
          "output_type": "stream",
          "text": [
            "[[13 46]\n",
            " [23 82]]\n",
            "2\n",
            "2.0\n",
            "[[ 2.  -1. ]\n",
            " [-0.5  0.5]]\n",
            "Execution time  0.029554367065429688\n"
          ],
          "name": "stdout"
        }
      ]
    },
    {
      "cell_type": "markdown",
      "metadata": {
        "id": "GJPq1jN7t4Tt"
      },
      "source": [
        "- change [1,4] to [2,4]\n"
      ]
    },
    {
      "cell_type": "code",
      "metadata": {
        "colab": {
          "base_uri": "https://localhost:8080/",
          "height": 454
        },
        "id": "Szv8KyBDt2uT",
        "outputId": "5e334666-33eb-4067-e86a-9d4e8f62b855"
      },
      "source": [
        "import time\n",
        "start_time=time.time()\n",
        "import numpy as np \n",
        "a=np.array([[1 ,2],[2,4]])  \n",
        "print(np.linalg.matrix_power(a,3)) \n",
        "print(np.linalg.matrix_rank(a))\n",
        "print(np.linalg.det(a)) \n",
        "print(np.linalg.inv(a))\n",
        "print(\"Execution time \",time.time()-start_time)"
      ],
      "execution_count": 11,
      "outputs": [
        {
          "output_type": "stream",
          "text": [
            "[[ 25  50]\n",
            " [ 50 100]]\n",
            "1\n",
            "0.0\n"
          ],
          "name": "stdout"
        },
        {
          "output_type": "error",
          "ename": "LinAlgError",
          "evalue": "ignored",
          "traceback": [
            "\u001b[0;31m---------------------------------------------------------------------------\u001b[0m",
            "\u001b[0;31mLinAlgError\u001b[0m                               Traceback (most recent call last)",
            "\u001b[0;32m<ipython-input-11-f3fbe5fe3909>\u001b[0m in \u001b[0;36m<module>\u001b[0;34m()\u001b[0m\n\u001b[1;32m      6\u001b[0m \u001b[0mprint\u001b[0m\u001b[0;34m(\u001b[0m\u001b[0mnp\u001b[0m\u001b[0;34m.\u001b[0m\u001b[0mlinalg\u001b[0m\u001b[0;34m.\u001b[0m\u001b[0mmatrix_rank\u001b[0m\u001b[0;34m(\u001b[0m\u001b[0ma\u001b[0m\u001b[0;34m)\u001b[0m\u001b[0;34m)\u001b[0m\u001b[0;34m\u001b[0m\u001b[0;34m\u001b[0m\u001b[0m\n\u001b[1;32m      7\u001b[0m \u001b[0mprint\u001b[0m\u001b[0;34m(\u001b[0m\u001b[0mnp\u001b[0m\u001b[0;34m.\u001b[0m\u001b[0mlinalg\u001b[0m\u001b[0;34m.\u001b[0m\u001b[0mdet\u001b[0m\u001b[0;34m(\u001b[0m\u001b[0ma\u001b[0m\u001b[0;34m)\u001b[0m\u001b[0;34m)\u001b[0m\u001b[0;34m\u001b[0m\u001b[0;34m\u001b[0m\u001b[0m\n\u001b[0;32m----> 8\u001b[0;31m \u001b[0mprint\u001b[0m\u001b[0;34m(\u001b[0m\u001b[0mnp\u001b[0m\u001b[0;34m.\u001b[0m\u001b[0mlinalg\u001b[0m\u001b[0;34m.\u001b[0m\u001b[0minv\u001b[0m\u001b[0;34m(\u001b[0m\u001b[0ma\u001b[0m\u001b[0;34m)\u001b[0m\u001b[0;34m)\u001b[0m\u001b[0;34m\u001b[0m\u001b[0;34m\u001b[0m\u001b[0m\n\u001b[0m\u001b[1;32m      9\u001b[0m \u001b[0mprint\u001b[0m\u001b[0;34m(\u001b[0m\u001b[0;34m\"Execution time \"\u001b[0m\u001b[0;34m,\u001b[0m\u001b[0mtime\u001b[0m\u001b[0;34m.\u001b[0m\u001b[0mtime\u001b[0m\u001b[0;34m(\u001b[0m\u001b[0;34m)\u001b[0m\u001b[0;34m-\u001b[0m\u001b[0mstart_time\u001b[0m\u001b[0;34m)\u001b[0m\u001b[0;34m\u001b[0m\u001b[0;34m\u001b[0m\u001b[0m\n",
            "\u001b[0;32m<__array_function__ internals>\u001b[0m in \u001b[0;36minv\u001b[0;34m(*args, **kwargs)\u001b[0m\n",
            "\u001b[0;32m/usr/local/lib/python3.7/dist-packages/numpy/linalg/linalg.py\u001b[0m in \u001b[0;36minv\u001b[0;34m(a)\u001b[0m\n\u001b[1;32m    544\u001b[0m     \u001b[0msignature\u001b[0m \u001b[0;34m=\u001b[0m \u001b[0;34m'D->D'\u001b[0m \u001b[0;32mif\u001b[0m \u001b[0misComplexType\u001b[0m\u001b[0;34m(\u001b[0m\u001b[0mt\u001b[0m\u001b[0;34m)\u001b[0m \u001b[0;32melse\u001b[0m \u001b[0;34m'd->d'\u001b[0m\u001b[0;34m\u001b[0m\u001b[0;34m\u001b[0m\u001b[0m\n\u001b[1;32m    545\u001b[0m     \u001b[0mextobj\u001b[0m \u001b[0;34m=\u001b[0m \u001b[0mget_linalg_error_extobj\u001b[0m\u001b[0;34m(\u001b[0m\u001b[0m_raise_linalgerror_singular\u001b[0m\u001b[0;34m)\u001b[0m\u001b[0;34m\u001b[0m\u001b[0;34m\u001b[0m\u001b[0m\n\u001b[0;32m--> 546\u001b[0;31m     \u001b[0mainv\u001b[0m \u001b[0;34m=\u001b[0m \u001b[0m_umath_linalg\u001b[0m\u001b[0;34m.\u001b[0m\u001b[0minv\u001b[0m\u001b[0;34m(\u001b[0m\u001b[0ma\u001b[0m\u001b[0;34m,\u001b[0m \u001b[0msignature\u001b[0m\u001b[0;34m=\u001b[0m\u001b[0msignature\u001b[0m\u001b[0;34m,\u001b[0m \u001b[0mextobj\u001b[0m\u001b[0;34m=\u001b[0m\u001b[0mextobj\u001b[0m\u001b[0;34m)\u001b[0m\u001b[0;34m\u001b[0m\u001b[0;34m\u001b[0m\u001b[0m\n\u001b[0m\u001b[1;32m    547\u001b[0m     \u001b[0;32mreturn\u001b[0m \u001b[0mwrap\u001b[0m\u001b[0;34m(\u001b[0m\u001b[0mainv\u001b[0m\u001b[0;34m.\u001b[0m\u001b[0mastype\u001b[0m\u001b[0;34m(\u001b[0m\u001b[0mresult_t\u001b[0m\u001b[0;34m,\u001b[0m \u001b[0mcopy\u001b[0m\u001b[0;34m=\u001b[0m\u001b[0;32mFalse\u001b[0m\u001b[0;34m)\u001b[0m\u001b[0;34m)\u001b[0m\u001b[0;34m\u001b[0m\u001b[0;34m\u001b[0m\u001b[0m\n\u001b[1;32m    548\u001b[0m \u001b[0;34m\u001b[0m\u001b[0m\n",
            "\u001b[0;32m/usr/local/lib/python3.7/dist-packages/numpy/linalg/linalg.py\u001b[0m in \u001b[0;36m_raise_linalgerror_singular\u001b[0;34m(err, flag)\u001b[0m\n\u001b[1;32m     86\u001b[0m \u001b[0;34m\u001b[0m\u001b[0m\n\u001b[1;32m     87\u001b[0m \u001b[0;32mdef\u001b[0m \u001b[0m_raise_linalgerror_singular\u001b[0m\u001b[0;34m(\u001b[0m\u001b[0merr\u001b[0m\u001b[0;34m,\u001b[0m \u001b[0mflag\u001b[0m\u001b[0;34m)\u001b[0m\u001b[0;34m:\u001b[0m\u001b[0;34m\u001b[0m\u001b[0;34m\u001b[0m\u001b[0m\n\u001b[0;32m---> 88\u001b[0;31m     \u001b[0;32mraise\u001b[0m \u001b[0mLinAlgError\u001b[0m\u001b[0;34m(\u001b[0m\u001b[0;34m\"Singular matrix\"\u001b[0m\u001b[0;34m)\u001b[0m\u001b[0;34m\u001b[0m\u001b[0;34m\u001b[0m\u001b[0m\n\u001b[0m\u001b[1;32m     89\u001b[0m \u001b[0;34m\u001b[0m\u001b[0m\n\u001b[1;32m     90\u001b[0m \u001b[0;32mdef\u001b[0m \u001b[0m_raise_linalgerror_nonposdef\u001b[0m\u001b[0;34m(\u001b[0m\u001b[0merr\u001b[0m\u001b[0;34m,\u001b[0m \u001b[0mflag\u001b[0m\u001b[0;34m)\u001b[0m\u001b[0;34m:\u001b[0m\u001b[0;34m\u001b[0m\u001b[0;34m\u001b[0m\u001b[0m\n",
            "\u001b[0;31mLinAlgError\u001b[0m: Singular matrix"
          ]
        }
      ]
    },
    {
      "cell_type": "markdown",
      "metadata": {
        "id": "HGII4FFOuV6V"
      },
      "source": [
        "- Try 15 insted of 3"
      ]
    },
    {
      "cell_type": "code",
      "metadata": {
        "colab": {
          "base_uri": "https://localhost:8080/"
        },
        "id": "lI5IOp8vuMpj",
        "outputId": "c1bb0416-6d87-4b2c-b558-6a797c1fe8e1"
      },
      "source": [
        "import time\n",
        "start_time=time.time()\n",
        "import numpy as np \n",
        "a=np.array([[1 ,2],[1,4]])  \n",
        "print(np.linalg.matrix_power(a,15)) \n",
        "print(np.linalg.matrix_rank(a))\n",
        "print(np.linalg.det(a)) \n",
        "print(np.linalg.inv(a))\n",
        "print(\"Execution time \",time.time()-start_time)"
      ],
      "execution_count": 12,
      "outputs": [
        {
          "output_type": "stream",
          "text": [
            "[[1049196317 3736768094]\n",
            " [1868384047 6654348458]]\n",
            "2\n",
            "2.0\n",
            "[[ 2.  -1. ]\n",
            " [-0.5  0.5]]\n",
            "Execution time  0.007770538330078125\n"
          ],
          "name": "stdout"
        }
      ]
    },
    {
      "cell_type": "markdown",
      "metadata": {
        "id": "vv4olJdNugMa"
      },
      "source": [
        "Type output to int"
      ]
    },
    {
      "cell_type": "code",
      "metadata": {
        "colab": {
          "base_uri": "https://localhost:8080/"
        },
        "id": "OTKKA1Zuuazs",
        "outputId": "e741f5b2-c0ca-4f38-81eb-44ca7005e587"
      },
      "source": [
        "import time\n",
        "start_time=time.time()\n",
        "import numpy as np \n",
        "a=np.array([[1 ,2],[1,4]])  \n",
        "print(np.linalg.matrix_power(a,3)) \n",
        "print(np.linalg.matrix_rank(a))\n",
        "print(np.linalg.det(a)) #type output to int\n",
        "print(np.linalg.inv(a).astype(int))\n",
        "print(\"Execution time \",time.time()-start_time)"
      ],
      "execution_count": 13,
      "outputs": [
        {
          "output_type": "stream",
          "text": [
            "[[13 46]\n",
            " [23 82]]\n",
            "2\n",
            "2.0\n",
            "[[ 2 -1]\n",
            " [ 0  0]]\n",
            "Execution time  0.010647058486938477\n"
          ],
          "name": "stdout"
        }
      ]
    },
    {
      "cell_type": "markdown",
      "metadata": {
        "id": "xlZNv9IJvSRr"
      },
      "source": [
        "## 2.2 Solve the system of equations a + 2 b = 1 and 3 a + 5 * b = 2\n"
      ]
    },
    {
      "cell_type": "code",
      "metadata": {
        "colab": {
          "base_uri": "https://localhost:8080/"
        },
        "id": "dbKHi2hhun2v",
        "outputId": "4304c6f7-ff1d-418c-b8f5-aac7cea15eba"
      },
      "source": [
        "import time\n",
        "start_time=time.time()\n",
        "import numpy as np \n",
        "A = np.array([[1, 2], [3, 5]]) #instead of [3,5] give [2,4]\n",
        "B = np.array([1, 2])\n",
        "X = np.linalg.solve(A, B)\n",
        "print(X)\n",
        "a=X[0]\n",
        "b=X[1]\n",
        "print(a,b)\n",
        "print(np.allclose(np.dot(A, X), B)) #checking whether solution is true\n",
        "print(\"Execution time \",time.time()-start_time)"
      ],
      "execution_count": 14,
      "outputs": [
        {
          "output_type": "stream",
          "text": [
            "[-1.  1.]\n",
            "-0.9999999999999994 0.9999999999999997\n",
            "True\n",
            "Execution time  0.006349802017211914\n"
          ],
          "name": "stdout"
        }
      ]
    },
    {
      "cell_type": "markdown",
      "metadata": {
        "id": "vSxUn2r-vZXa"
      },
      "source": [
        "instead of [3,5] give [2,4]"
      ]
    },
    {
      "cell_type": "code",
      "metadata": {
        "colab": {
          "base_uri": "https://localhost:8080/",
          "height": 404
        },
        "id": "HS84FnCgvUhb",
        "outputId": "ea88facc-cf5c-4ae7-d65f-3850acc19808"
      },
      "source": [
        "import time\n",
        "start_time=time.time()\n",
        "import numpy as np \n",
        "A = np.array([[1, 2], [2, 4]]) \n",
        "B = np.array([1, 2])\n",
        "X = np.linalg.solve(A, B)\n",
        "print(X)\n",
        "a=X[0]\n",
        "b=X[1]\n",
        "print(a,b)\n",
        "print(np.allclose(np.dot(A, X), B))\n",
        "print(\"Execution time \",time.time()-start_time)"
      ],
      "execution_count": 15,
      "outputs": [
        {
          "output_type": "error",
          "ename": "LinAlgError",
          "evalue": "ignored",
          "traceback": [
            "\u001b[0;31m---------------------------------------------------------------------------\u001b[0m",
            "\u001b[0;31mLinAlgError\u001b[0m                               Traceback (most recent call last)",
            "\u001b[0;32m<ipython-input-15-d1d45ce9fda7>\u001b[0m in \u001b[0;36m<module>\u001b[0;34m()\u001b[0m\n\u001b[1;32m      4\u001b[0m \u001b[0mA\u001b[0m \u001b[0;34m=\u001b[0m \u001b[0mnp\u001b[0m\u001b[0;34m.\u001b[0m\u001b[0marray\u001b[0m\u001b[0;34m(\u001b[0m\u001b[0;34m[\u001b[0m\u001b[0;34m[\u001b[0m\u001b[0;36m1\u001b[0m\u001b[0;34m,\u001b[0m \u001b[0;36m2\u001b[0m\u001b[0;34m]\u001b[0m\u001b[0;34m,\u001b[0m \u001b[0;34m[\u001b[0m\u001b[0;36m2\u001b[0m\u001b[0;34m,\u001b[0m \u001b[0;36m4\u001b[0m\u001b[0;34m]\u001b[0m\u001b[0;34m]\u001b[0m\u001b[0;34m)\u001b[0m\u001b[0;34m\u001b[0m\u001b[0;34m\u001b[0m\u001b[0m\n\u001b[1;32m      5\u001b[0m \u001b[0mB\u001b[0m \u001b[0;34m=\u001b[0m \u001b[0mnp\u001b[0m\u001b[0;34m.\u001b[0m\u001b[0marray\u001b[0m\u001b[0;34m(\u001b[0m\u001b[0;34m[\u001b[0m\u001b[0;36m1\u001b[0m\u001b[0;34m,\u001b[0m \u001b[0;36m2\u001b[0m\u001b[0;34m]\u001b[0m\u001b[0;34m)\u001b[0m\u001b[0;34m\u001b[0m\u001b[0;34m\u001b[0m\u001b[0m\n\u001b[0;32m----> 6\u001b[0;31m \u001b[0mX\u001b[0m \u001b[0;34m=\u001b[0m \u001b[0mnp\u001b[0m\u001b[0;34m.\u001b[0m\u001b[0mlinalg\u001b[0m\u001b[0;34m.\u001b[0m\u001b[0msolve\u001b[0m\u001b[0;34m(\u001b[0m\u001b[0mA\u001b[0m\u001b[0;34m,\u001b[0m \u001b[0mB\u001b[0m\u001b[0;34m)\u001b[0m\u001b[0;34m\u001b[0m\u001b[0;34m\u001b[0m\u001b[0m\n\u001b[0m\u001b[1;32m      7\u001b[0m \u001b[0mprint\u001b[0m\u001b[0;34m(\u001b[0m\u001b[0mX\u001b[0m\u001b[0;34m)\u001b[0m\u001b[0;34m\u001b[0m\u001b[0;34m\u001b[0m\u001b[0m\n\u001b[1;32m      8\u001b[0m \u001b[0ma\u001b[0m\u001b[0;34m=\u001b[0m\u001b[0mX\u001b[0m\u001b[0;34m[\u001b[0m\u001b[0;36m0\u001b[0m\u001b[0;34m]\u001b[0m\u001b[0;34m\u001b[0m\u001b[0;34m\u001b[0m\u001b[0m\n",
            "\u001b[0;32m<__array_function__ internals>\u001b[0m in \u001b[0;36msolve\u001b[0;34m(*args, **kwargs)\u001b[0m\n",
            "\u001b[0;32m/usr/local/lib/python3.7/dist-packages/numpy/linalg/linalg.py\u001b[0m in \u001b[0;36msolve\u001b[0;34m(a, b)\u001b[0m\n\u001b[1;32m    392\u001b[0m     \u001b[0msignature\u001b[0m \u001b[0;34m=\u001b[0m \u001b[0;34m'DD->D'\u001b[0m \u001b[0;32mif\u001b[0m \u001b[0misComplexType\u001b[0m\u001b[0;34m(\u001b[0m\u001b[0mt\u001b[0m\u001b[0;34m)\u001b[0m \u001b[0;32melse\u001b[0m \u001b[0;34m'dd->d'\u001b[0m\u001b[0;34m\u001b[0m\u001b[0;34m\u001b[0m\u001b[0m\n\u001b[1;32m    393\u001b[0m     \u001b[0mextobj\u001b[0m \u001b[0;34m=\u001b[0m \u001b[0mget_linalg_error_extobj\u001b[0m\u001b[0;34m(\u001b[0m\u001b[0m_raise_linalgerror_singular\u001b[0m\u001b[0;34m)\u001b[0m\u001b[0;34m\u001b[0m\u001b[0;34m\u001b[0m\u001b[0m\n\u001b[0;32m--> 394\u001b[0;31m     \u001b[0mr\u001b[0m \u001b[0;34m=\u001b[0m \u001b[0mgufunc\u001b[0m\u001b[0;34m(\u001b[0m\u001b[0ma\u001b[0m\u001b[0;34m,\u001b[0m \u001b[0mb\u001b[0m\u001b[0;34m,\u001b[0m \u001b[0msignature\u001b[0m\u001b[0;34m=\u001b[0m\u001b[0msignature\u001b[0m\u001b[0;34m,\u001b[0m \u001b[0mextobj\u001b[0m\u001b[0;34m=\u001b[0m\u001b[0mextobj\u001b[0m\u001b[0;34m)\u001b[0m\u001b[0;34m\u001b[0m\u001b[0;34m\u001b[0m\u001b[0m\n\u001b[0m\u001b[1;32m    395\u001b[0m \u001b[0;34m\u001b[0m\u001b[0m\n\u001b[1;32m    396\u001b[0m     \u001b[0;32mreturn\u001b[0m \u001b[0mwrap\u001b[0m\u001b[0;34m(\u001b[0m\u001b[0mr\u001b[0m\u001b[0;34m.\u001b[0m\u001b[0mastype\u001b[0m\u001b[0;34m(\u001b[0m\u001b[0mresult_t\u001b[0m\u001b[0;34m,\u001b[0m \u001b[0mcopy\u001b[0m\u001b[0;34m=\u001b[0m\u001b[0;32mFalse\u001b[0m\u001b[0;34m)\u001b[0m\u001b[0;34m)\u001b[0m\u001b[0;34m\u001b[0m\u001b[0;34m\u001b[0m\u001b[0m\n",
            "\u001b[0;32m/usr/local/lib/python3.7/dist-packages/numpy/linalg/linalg.py\u001b[0m in \u001b[0;36m_raise_linalgerror_singular\u001b[0;34m(err, flag)\u001b[0m\n\u001b[1;32m     86\u001b[0m \u001b[0;34m\u001b[0m\u001b[0m\n\u001b[1;32m     87\u001b[0m \u001b[0;32mdef\u001b[0m \u001b[0m_raise_linalgerror_singular\u001b[0m\u001b[0;34m(\u001b[0m\u001b[0merr\u001b[0m\u001b[0;34m,\u001b[0m \u001b[0mflag\u001b[0m\u001b[0;34m)\u001b[0m\u001b[0;34m:\u001b[0m\u001b[0;34m\u001b[0m\u001b[0;34m\u001b[0m\u001b[0m\n\u001b[0;32m---> 88\u001b[0;31m     \u001b[0;32mraise\u001b[0m \u001b[0mLinAlgError\u001b[0m\u001b[0;34m(\u001b[0m\u001b[0;34m\"Singular matrix\"\u001b[0m\u001b[0;34m)\u001b[0m\u001b[0;34m\u001b[0m\u001b[0;34m\u001b[0m\u001b[0m\n\u001b[0m\u001b[1;32m     89\u001b[0m \u001b[0;34m\u001b[0m\u001b[0m\n\u001b[1;32m     90\u001b[0m \u001b[0;32mdef\u001b[0m \u001b[0m_raise_linalgerror_nonposdef\u001b[0m\u001b[0;34m(\u001b[0m\u001b[0merr\u001b[0m\u001b[0;34m,\u001b[0m \u001b[0mflag\u001b[0m\u001b[0;34m)\u001b[0m\u001b[0;34m:\u001b[0m\u001b[0;34m\u001b[0m\u001b[0;34m\u001b[0m\u001b[0m\n",
            "\u001b[0;31mLinAlgError\u001b[0m: Singular matrix"
          ]
        }
      ]
    },
    {
      "cell_type": "markdown",
      "metadata": {
        "id": "DfHxGt4rvg1k"
      },
      "source": [
        "## 2.3 Eigen Value and Eigen Vector\n"
      ]
    },
    {
      "cell_type": "code",
      "metadata": {
        "colab": {
          "base_uri": "https://localhost:8080/"
        },
        "id": "ICc0ryGevd-c",
        "outputId": "54514875-bb5e-48d0-abf7-e0c24446c260"
      },
      "source": [
        "import time\n",
        "start_time=time.time()\n",
        "import numpy as np \n",
        "a=np.diag((1,2,3)) #change (1,2,3) to (1,2,3,4)\n",
        "print(a)\n",
        "w,v=np.linalg.eig(a)\n",
        "print(w)\n",
        "print(v)\n",
        "print(\"Execution time \",time.time()-start_time)"
      ],
      "execution_count": 16,
      "outputs": [
        {
          "output_type": "stream",
          "text": [
            "[[1 0 0]\n",
            " [0 2 0]\n",
            " [0 0 3]]\n",
            "[1. 2. 3.]\n",
            "[[1. 0. 0.]\n",
            " [0. 1. 0.]\n",
            " [0. 0. 1.]]\n",
            "Execution time  0.012073278427124023\n"
          ],
          "name": "stdout"
        }
      ]
    },
    {
      "cell_type": "markdown",
      "metadata": {
        "id": "oIbFgSfNvpRj"
      },
      "source": [
        "change (1,2,3) to (1,2,3,4)"
      ]
    },
    {
      "cell_type": "code",
      "metadata": {
        "colab": {
          "base_uri": "https://localhost:8080/"
        },
        "id": "gU9KrvrmvnLu",
        "outputId": "07fbf12b-8b60-43a4-fd95-c02eec8e8168"
      },
      "source": [
        "import time\n",
        "start_time=time.time()\n",
        "import numpy as np \n",
        "a=np.diag((1,2,3,4)) \n",
        "print(a)\n",
        "w,v=np.linalg.eig(a)\n",
        "print(w)\n",
        "print(v)\n",
        "print(\"Execution time \",time.time()-start_time)"
      ],
      "execution_count": 17,
      "outputs": [
        {
          "output_type": "stream",
          "text": [
            "[[1 0 0 0]\n",
            " [0 2 0 0]\n",
            " [0 0 3 0]\n",
            " [0 0 0 4]]\n",
            "[1. 2. 3. 4.]\n",
            "[[1. 0. 0. 0.]\n",
            " [0. 1. 0. 0.]\n",
            " [0. 0. 1. 0.]\n",
            " [0. 0. 0. 1.]]\n",
            "Execution time  0.0055272579193115234\n"
          ],
          "name": "stdout"
        }
      ]
    },
    {
      "cell_type": "markdown",
      "metadata": {
        "id": "IpXRbtGcvvyZ"
      },
      "source": [
        "a=np.array([[1,2],[3,4]])"
      ]
    },
    {
      "cell_type": "code",
      "metadata": {
        "colab": {
          "base_uri": "https://localhost:8080/"
        },
        "id": "ep6XHIE3vu1f",
        "outputId": "b720668d-25c1-494f-d522-9cffc2af2acc"
      },
      "source": [
        "import time\n",
        "start_time=time.time()\n",
        "import numpy as np \n",
        "a=np.array([[1,2],[3,4]])\n",
        "print(a)\n",
        "w,v=np.linalg.eig(a)\n",
        "print(w)\n",
        "print(v)\n",
        "print(\"Execution time \",time.time()-start_time)"
      ],
      "execution_count": 18,
      "outputs": [
        {
          "output_type": "stream",
          "text": [
            "[[1 2]\n",
            " [3 4]]\n",
            "[-0.37228132  5.37228132]\n",
            "[[-0.82456484 -0.41597356]\n",
            " [ 0.56576746 -0.90937671]]\n",
            "Execution time  0.004335641860961914\n"
          ],
          "name": "stdout"
        }
      ]
    },
    {
      "cell_type": "markdown",
      "metadata": {
        "id": "KGpJmz1Zv4me"
      },
      "source": [
        "# 3. Polynomials\n"
      ]
    },
    {
      "cell_type": "markdown",
      "metadata": {
        "id": "yeKcKWnmv7zb"
      },
      "source": [
        "## 3.1 Representing a polynomial and evaluating it's value\n"
      ]
    },
    {
      "cell_type": "code",
      "metadata": {
        "colab": {
          "base_uri": "https://localhost:8080/"
        },
        "id": "gSFmmImlv2A-",
        "outputId": "6102fc15-f9fc-4c81-ef51-ff515e7a8c74"
      },
      "source": [
        "import time\n",
        "start_time=time.time()\n",
        "import numpy as np \n",
        "p = np.poly1d([1, 2, 3])\n",
        "print(np.poly1d(p))\n",
        "print(np.polyval(p,5))  #Evaluate polynomial at value 7\n",
        "print(np.polyadd(p,p)) #try polysub, polydiv,polymul\n",
        "print(\"Execution time \",time.time()-start_time)"
      ],
      "execution_count": 19,
      "outputs": [
        {
          "output_type": "stream",
          "text": [
            "   2\n",
            "1 x + 2 x + 3\n",
            "38\n",
            "   2\n",
            "2 x + 4 x + 6\n",
            "Execution time  0.004155397415161133\n"
          ],
          "name": "stdout"
        }
      ]
    },
    {
      "cell_type": "code",
      "metadata": {
        "colab": {
          "base_uri": "https://localhost:8080/"
        },
        "id": "DIKnMoY5v-aq",
        "outputId": "75355c08-204a-4bb7-ac1d-e1466c0f9e97"
      },
      "source": [
        "import time\n",
        "start_time=time.time()\n",
        "import numpy as np \n",
        "p = np.poly1d([1, 2, 3])\n",
        "print(np.poly1d(p))\n",
        "print(np.polyval(p,7))  \n",
        "print(np.polyadd(p,p)) \n",
        "print(\"Execution time \",time.time()-start_time)"
      ],
      "execution_count": 20,
      "outputs": [
        {
          "output_type": "stream",
          "text": [
            "   2\n",
            "1 x + 2 x + 3\n",
            "66\n",
            "   2\n",
            "2 x + 4 x + 6\n",
            "Execution time  0.007470846176147461\n"
          ],
          "name": "stdout"
        }
      ]
    },
    {
      "cell_type": "markdown",
      "metadata": {
        "id": "wyNcxuf1waqc"
      },
      "source": [
        "polysub"
      ]
    },
    {
      "cell_type": "code",
      "metadata": {
        "colab": {
          "base_uri": "https://localhost:8080/"
        },
        "id": "Zve2fA59wVMT",
        "outputId": "e19cb806-f783-4648-c529-432a36d759f4"
      },
      "source": [
        "import time\n",
        "start_time=time.time()\n",
        "import numpy as np \n",
        "p = np.poly1d([1, 2, 3])\n",
        "print(np.poly1d(p))\n",
        "print(np.polyval(p,5)) \n",
        "print(np.polysub(p,p)) \n",
        "print(\"Execution time \",time.time()-start_time)"
      ],
      "execution_count": 21,
      "outputs": [
        {
          "output_type": "stream",
          "text": [
            "   2\n",
            "1 x + 2 x + 3\n",
            "38\n",
            " \n",
            "0\n",
            "Execution time  0.01009225845336914\n"
          ],
          "name": "stdout"
        }
      ]
    },
    {
      "cell_type": "markdown",
      "metadata": {
        "id": "VOEng0PFwnVn"
      },
      "source": [
        "polydiv"
      ]
    },
    {
      "cell_type": "code",
      "metadata": {
        "colab": {
          "base_uri": "https://localhost:8080/"
        },
        "id": "BcwUxCANwbqb",
        "outputId": "a416385f-94d7-4c89-ba10-b61695caca0f"
      },
      "source": [
        "import time\n",
        "start_time=time.time()\n",
        "import numpy as np \n",
        "p = np.poly1d([1, 2, 3])\n",
        "print(np.poly1d(p))\n",
        "print(np.polyval(p,5))  \n",
        "print(np.polydiv(p,p))\n",
        "print(\"Execution time \",time.time()-start_time)"
      ],
      "execution_count": 22,
      "outputs": [
        {
          "output_type": "stream",
          "text": [
            "   2\n",
            "1 x + 2 x + 3\n",
            "38\n",
            "(poly1d([1.]), poly1d([0.]))\n",
            "Execution time  0.007295370101928711\n"
          ],
          "name": "stdout"
        }
      ]
    },
    {
      "cell_type": "markdown",
      "metadata": {
        "id": "MNg4wHifwpOm"
      },
      "source": [
        "polymul"
      ]
    },
    {
      "cell_type": "code",
      "metadata": {
        "colab": {
          "base_uri": "https://localhost:8080/"
        },
        "id": "a48U9EYRwe4C",
        "outputId": "bf4888c1-3ec3-4b6b-d907-0485f73ba1a0"
      },
      "source": [
        "import time\n",
        "start_time=time.time()\n",
        "import numpy as np \n",
        "p = np.poly1d([1, 2, 3])\n",
        "print(np.poly1d(p))\n",
        "print(np.polyval(p,5)) \n",
        "print(np.polymul(p,p)) \n",
        "print(\"Execution time \",time.time()-start_time)"
      ],
      "execution_count": 23,
      "outputs": [
        {
          "output_type": "stream",
          "text": [
            "   2\n",
            "1 x + 2 x + 3\n",
            "38\n",
            "   4     3      2\n",
            "1 x + 4 x + 10 x + 12 x + 9\n",
            "Execution time  0.0012733936309814453\n"
          ],
          "name": "stdout"
        }
      ]
    },
    {
      "cell_type": "code",
      "metadata": {
        "colab": {
          "base_uri": "https://localhost:8080/"
        },
        "id": "62f4be7AwlV-",
        "outputId": "4fa54016-528c-433d-944d-ae1f54f7d236"
      },
      "source": [
        "import time\n",
        "start_time=time.time()\n",
        "import numpy as np\n",
        "p = np.poly1d([1, -2, 1]) #Design polynomial to produce imaginary roots\n",
        "print(p.c)  #print coefficients of polynomial\n",
        "print(np.roots(p))\n",
        "print(\"Execution time \",time.time()-start_time)"
      ],
      "execution_count": 24,
      "outputs": [
        {
          "output_type": "stream",
          "text": [
            "[ 1 -2  1]\n",
            "[1. 1.]\n",
            "Execution time  0.0050008296966552734\n"
          ],
          "name": "stdout"
        }
      ]
    },
    {
      "cell_type": "markdown",
      "metadata": {
        "id": "1pWjFHlqw0OY"
      },
      "source": [
        "## 3.2 Least Square Polynomial fit\n"
      ]
    },
    {
      "cell_type": "code",
      "metadata": {
        "colab": {
          "base_uri": "https://localhost:8080/"
        },
        "id": "rhiM9_gtwwId",
        "outputId": "eb380782-f168-46b2-b764-ba6bea54eb62"
      },
      "source": [
        "import time\n",
        "start_time=time.time()\n",
        "import numpy as np\n",
        "x = np.array([0.0, 1.0, 2.0, 3.0,  4.0,  5.0])\n",
        "y = np.array([0.0, 2.0, 4.0, 6.0, 8.0, 10.0])  #Clearly y=2x\n",
        "z = np.polyfit(x, y,1) #Change 1 to 2\n",
        "print(z)\n",
        "print(np.poly1d(z)(7))\n",
        "print(\"Execution time \",time.time()-start_time)"
      ],
      "execution_count": 26,
      "outputs": [
        {
          "output_type": "stream",
          "text": [
            "[ 2.00000000e+00 -8.46295243e-17]\n",
            "13.999999999999996\n",
            "Execution time  0.0012989044189453125\n"
          ],
          "name": "stdout"
        }
      ]
    },
    {
      "cell_type": "markdown",
      "metadata": {
        "id": "f_K8UPuLw5ct"
      },
      "source": [
        "Change 1 to 2"
      ]
    },
    {
      "cell_type": "code",
      "metadata": {
        "colab": {
          "base_uri": "https://localhost:8080/"
        },
        "id": "tHOXSZNcw4gr",
        "outputId": "be20faa6-ce04-4f46-dd97-554271a3e05b"
      },
      "source": [
        "import time\n",
        "start_time=time.time()\n",
        "import numpy as np\n",
        "x = np.array([0.0, 1.0, 2.0, 3.0,  4.0,  5.0])\n",
        "y = np.array([0.0, 2.0, 4.0, 6.0, 8.0, 10.0])  \n",
        "z = np.polyfit(x, y,2)\n",
        "print(z)\n",
        "print(np.poly1d(z)(7))\n",
        "print(\"Execution time \",time.time()-start_time)"
      ],
      "execution_count": 27,
      "outputs": [
        {
          "output_type": "stream",
          "text": [
            "[7.27501968e-17 2.00000000e+00 2.92686766e-15]\n",
            "14.000000000000002\n",
            "Execution time  0.0018849372863769531\n"
          ],
          "name": "stdout"
        }
      ]
    },
    {
      "cell_type": "markdown",
      "metadata": {
        "id": "Dfkh1hlyxZfY"
      },
      "source": [
        "1.Create 100 polynomials of following specification\n",
        "First polynomial is x^99 + 1\n",
        "Second polynomial is x^99 + x\n",
        ".....\n",
        "99'th polynomial is x^99 + x^98\n",
        "100'th polynomial is x^99"
      ]
    },
    {
      "cell_type": "code",
      "metadata": {
        "colab": {
          "base_uri": "https://localhost:8080/"
        },
        "id": "9KVSHXdKw-NQ",
        "outputId": "28117c3a-0935-4d7f-fba0-6e85830f1933"
      },
      "source": [
        "matrix=[]\n",
        "for i in range(0,100):\n",
        "  row=[]\n",
        "  for j in range(0,100):\n",
        "    row.append(0) \n",
        "  matrix.append(row)\n",
        "for i in range(0,99):\n",
        "  if(i==0):\n",
        "    print(i+1, \"polynomial is x^99 + 1\")\n",
        "  else:\n",
        "    print(i+1, \"polynomial is x^99 + x^\",i)\n",
        "    matrix[i][99]=1\n",
        "    matrix[i][i]=1\n",
        "print(99, \"polynomial is x^99 \")\n",
        "matrix[98][98]=1\n"
      ],
      "execution_count": 28,
      "outputs": [
        {
          "output_type": "stream",
          "text": [
            "1 polynomial is x^99 + 1\n",
            "2 polynomial is x^99 + x^ 1\n",
            "3 polynomial is x^99 + x^ 2\n",
            "4 polynomial is x^99 + x^ 3\n",
            "5 polynomial is x^99 + x^ 4\n",
            "6 polynomial is x^99 + x^ 5\n",
            "7 polynomial is x^99 + x^ 6\n",
            "8 polynomial is x^99 + x^ 7\n",
            "9 polynomial is x^99 + x^ 8\n",
            "10 polynomial is x^99 + x^ 9\n",
            "11 polynomial is x^99 + x^ 10\n",
            "12 polynomial is x^99 + x^ 11\n",
            "13 polynomial is x^99 + x^ 12\n",
            "14 polynomial is x^99 + x^ 13\n",
            "15 polynomial is x^99 + x^ 14\n",
            "16 polynomial is x^99 + x^ 15\n",
            "17 polynomial is x^99 + x^ 16\n",
            "18 polynomial is x^99 + x^ 17\n",
            "19 polynomial is x^99 + x^ 18\n",
            "20 polynomial is x^99 + x^ 19\n",
            "21 polynomial is x^99 + x^ 20\n",
            "22 polynomial is x^99 + x^ 21\n",
            "23 polynomial is x^99 + x^ 22\n",
            "24 polynomial is x^99 + x^ 23\n",
            "25 polynomial is x^99 + x^ 24\n",
            "26 polynomial is x^99 + x^ 25\n",
            "27 polynomial is x^99 + x^ 26\n",
            "28 polynomial is x^99 + x^ 27\n",
            "29 polynomial is x^99 + x^ 28\n",
            "30 polynomial is x^99 + x^ 29\n",
            "31 polynomial is x^99 + x^ 30\n",
            "32 polynomial is x^99 + x^ 31\n",
            "33 polynomial is x^99 + x^ 32\n",
            "34 polynomial is x^99 + x^ 33\n",
            "35 polynomial is x^99 + x^ 34\n",
            "36 polynomial is x^99 + x^ 35\n",
            "37 polynomial is x^99 + x^ 36\n",
            "38 polynomial is x^99 + x^ 37\n",
            "39 polynomial is x^99 + x^ 38\n",
            "40 polynomial is x^99 + x^ 39\n",
            "41 polynomial is x^99 + x^ 40\n",
            "42 polynomial is x^99 + x^ 41\n",
            "43 polynomial is x^99 + x^ 42\n",
            "44 polynomial is x^99 + x^ 43\n",
            "45 polynomial is x^99 + x^ 44\n",
            "46 polynomial is x^99 + x^ 45\n",
            "47 polynomial is x^99 + x^ 46\n",
            "48 polynomial is x^99 + x^ 47\n",
            "49 polynomial is x^99 + x^ 48\n",
            "50 polynomial is x^99 + x^ 49\n",
            "51 polynomial is x^99 + x^ 50\n",
            "52 polynomial is x^99 + x^ 51\n",
            "53 polynomial is x^99 + x^ 52\n",
            "54 polynomial is x^99 + x^ 53\n",
            "55 polynomial is x^99 + x^ 54\n",
            "56 polynomial is x^99 + x^ 55\n",
            "57 polynomial is x^99 + x^ 56\n",
            "58 polynomial is x^99 + x^ 57\n",
            "59 polynomial is x^99 + x^ 58\n",
            "60 polynomial is x^99 + x^ 59\n",
            "61 polynomial is x^99 + x^ 60\n",
            "62 polynomial is x^99 + x^ 61\n",
            "63 polynomial is x^99 + x^ 62\n",
            "64 polynomial is x^99 + x^ 63\n",
            "65 polynomial is x^99 + x^ 64\n",
            "66 polynomial is x^99 + x^ 65\n",
            "67 polynomial is x^99 + x^ 66\n",
            "68 polynomial is x^99 + x^ 67\n",
            "69 polynomial is x^99 + x^ 68\n",
            "70 polynomial is x^99 + x^ 69\n",
            "71 polynomial is x^99 + x^ 70\n",
            "72 polynomial is x^99 + x^ 71\n",
            "73 polynomial is x^99 + x^ 72\n",
            "74 polynomial is x^99 + x^ 73\n",
            "75 polynomial is x^99 + x^ 74\n",
            "76 polynomial is x^99 + x^ 75\n",
            "77 polynomial is x^99 + x^ 76\n",
            "78 polynomial is x^99 + x^ 77\n",
            "79 polynomial is x^99 + x^ 78\n",
            "80 polynomial is x^99 + x^ 79\n",
            "81 polynomial is x^99 + x^ 80\n",
            "82 polynomial is x^99 + x^ 81\n",
            "83 polynomial is x^99 + x^ 82\n",
            "84 polynomial is x^99 + x^ 83\n",
            "85 polynomial is x^99 + x^ 84\n",
            "86 polynomial is x^99 + x^ 85\n",
            "87 polynomial is x^99 + x^ 86\n",
            "88 polynomial is x^99 + x^ 87\n",
            "89 polynomial is x^99 + x^ 88\n",
            "90 polynomial is x^99 + x^ 89\n",
            "91 polynomial is x^99 + x^ 90\n",
            "92 polynomial is x^99 + x^ 91\n",
            "93 polynomial is x^99 + x^ 92\n",
            "94 polynomial is x^99 + x^ 93\n",
            "95 polynomial is x^99 + x^ 94\n",
            "96 polynomial is x^99 + x^ 95\n",
            "97 polynomial is x^99 + x^ 96\n",
            "98 polynomial is x^99 + x^ 97\n",
            "99 polynomial is x^99 + x^ 98\n",
            "99 polynomial is x^99 \n"
          ],
          "name": "stdout"
        }
      ]
    },
    {
      "cell_type": "markdown",
      "metadata": {
        "id": "WThC-UDeyTOt"
      },
      "source": [
        "2. Store the coefficients to a matrix of size 100 * 100\n"
      ]
    },
    {
      "cell_type": "code",
      "metadata": {
        "colab": {
          "base_uri": "https://localhost:8080/"
        },
        "id": "CMeOBE-Uxy7-",
        "outputId": "a9bb63ca-8294-447b-f5ca-f0f0d6f96574"
      },
      "source": [
        "print(\"Coefficents of matrix are\")\n",
        "for i in range(0,100):\n",
        "  for j in range(0,100):\n",
        "    print(matrix[i][j],end=\"\")\n",
        "  print()"
      ],
      "execution_count": 29,
      "outputs": [
        {
          "output_type": "stream",
          "text": [
            "Coefficents of matrix are\n",
            "0000000000000000000000000000000000000000000000000000000000000000000000000000000000000000000000000000\n",
            "0100000000000000000000000000000000000000000000000000000000000000000000000000000000000000000000000001\n",
            "0010000000000000000000000000000000000000000000000000000000000000000000000000000000000000000000000001\n",
            "0001000000000000000000000000000000000000000000000000000000000000000000000000000000000000000000000001\n",
            "0000100000000000000000000000000000000000000000000000000000000000000000000000000000000000000000000001\n",
            "0000010000000000000000000000000000000000000000000000000000000000000000000000000000000000000000000001\n",
            "0000001000000000000000000000000000000000000000000000000000000000000000000000000000000000000000000001\n",
            "0000000100000000000000000000000000000000000000000000000000000000000000000000000000000000000000000001\n",
            "0000000010000000000000000000000000000000000000000000000000000000000000000000000000000000000000000001\n",
            "0000000001000000000000000000000000000000000000000000000000000000000000000000000000000000000000000001\n",
            "0000000000100000000000000000000000000000000000000000000000000000000000000000000000000000000000000001\n",
            "0000000000010000000000000000000000000000000000000000000000000000000000000000000000000000000000000001\n",
            "0000000000001000000000000000000000000000000000000000000000000000000000000000000000000000000000000001\n",
            "0000000000000100000000000000000000000000000000000000000000000000000000000000000000000000000000000001\n",
            "0000000000000010000000000000000000000000000000000000000000000000000000000000000000000000000000000001\n",
            "0000000000000001000000000000000000000000000000000000000000000000000000000000000000000000000000000001\n",
            "0000000000000000100000000000000000000000000000000000000000000000000000000000000000000000000000000001\n",
            "0000000000000000010000000000000000000000000000000000000000000000000000000000000000000000000000000001\n",
            "0000000000000000001000000000000000000000000000000000000000000000000000000000000000000000000000000001\n",
            "0000000000000000000100000000000000000000000000000000000000000000000000000000000000000000000000000001\n",
            "0000000000000000000010000000000000000000000000000000000000000000000000000000000000000000000000000001\n",
            "0000000000000000000001000000000000000000000000000000000000000000000000000000000000000000000000000001\n",
            "0000000000000000000000100000000000000000000000000000000000000000000000000000000000000000000000000001\n",
            "0000000000000000000000010000000000000000000000000000000000000000000000000000000000000000000000000001\n",
            "0000000000000000000000001000000000000000000000000000000000000000000000000000000000000000000000000001\n",
            "0000000000000000000000000100000000000000000000000000000000000000000000000000000000000000000000000001\n",
            "0000000000000000000000000010000000000000000000000000000000000000000000000000000000000000000000000001\n",
            "0000000000000000000000000001000000000000000000000000000000000000000000000000000000000000000000000001\n",
            "0000000000000000000000000000100000000000000000000000000000000000000000000000000000000000000000000001\n",
            "0000000000000000000000000000010000000000000000000000000000000000000000000000000000000000000000000001\n",
            "0000000000000000000000000000001000000000000000000000000000000000000000000000000000000000000000000001\n",
            "0000000000000000000000000000000100000000000000000000000000000000000000000000000000000000000000000001\n",
            "0000000000000000000000000000000010000000000000000000000000000000000000000000000000000000000000000001\n",
            "0000000000000000000000000000000001000000000000000000000000000000000000000000000000000000000000000001\n",
            "0000000000000000000000000000000000100000000000000000000000000000000000000000000000000000000000000001\n",
            "0000000000000000000000000000000000010000000000000000000000000000000000000000000000000000000000000001\n",
            "0000000000000000000000000000000000001000000000000000000000000000000000000000000000000000000000000001\n",
            "0000000000000000000000000000000000000100000000000000000000000000000000000000000000000000000000000001\n",
            "0000000000000000000000000000000000000010000000000000000000000000000000000000000000000000000000000001\n",
            "0000000000000000000000000000000000000001000000000000000000000000000000000000000000000000000000000001\n",
            "0000000000000000000000000000000000000000100000000000000000000000000000000000000000000000000000000001\n",
            "0000000000000000000000000000000000000000010000000000000000000000000000000000000000000000000000000001\n",
            "0000000000000000000000000000000000000000001000000000000000000000000000000000000000000000000000000001\n",
            "0000000000000000000000000000000000000000000100000000000000000000000000000000000000000000000000000001\n",
            "0000000000000000000000000000000000000000000010000000000000000000000000000000000000000000000000000001\n",
            "0000000000000000000000000000000000000000000001000000000000000000000000000000000000000000000000000001\n",
            "0000000000000000000000000000000000000000000000100000000000000000000000000000000000000000000000000001\n",
            "0000000000000000000000000000000000000000000000010000000000000000000000000000000000000000000000000001\n",
            "0000000000000000000000000000000000000000000000001000000000000000000000000000000000000000000000000001\n",
            "0000000000000000000000000000000000000000000000000100000000000000000000000000000000000000000000000001\n",
            "0000000000000000000000000000000000000000000000000010000000000000000000000000000000000000000000000001\n",
            "0000000000000000000000000000000000000000000000000001000000000000000000000000000000000000000000000001\n",
            "0000000000000000000000000000000000000000000000000000100000000000000000000000000000000000000000000001\n",
            "0000000000000000000000000000000000000000000000000000010000000000000000000000000000000000000000000001\n",
            "0000000000000000000000000000000000000000000000000000001000000000000000000000000000000000000000000001\n",
            "0000000000000000000000000000000000000000000000000000000100000000000000000000000000000000000000000001\n",
            "0000000000000000000000000000000000000000000000000000000010000000000000000000000000000000000000000001\n",
            "0000000000000000000000000000000000000000000000000000000001000000000000000000000000000000000000000001\n",
            "0000000000000000000000000000000000000000000000000000000000100000000000000000000000000000000000000001\n",
            "0000000000000000000000000000000000000000000000000000000000010000000000000000000000000000000000000001\n",
            "0000000000000000000000000000000000000000000000000000000000001000000000000000000000000000000000000001\n",
            "0000000000000000000000000000000000000000000000000000000000000100000000000000000000000000000000000001\n",
            "0000000000000000000000000000000000000000000000000000000000000010000000000000000000000000000000000001\n",
            "0000000000000000000000000000000000000000000000000000000000000001000000000000000000000000000000000001\n",
            "0000000000000000000000000000000000000000000000000000000000000000100000000000000000000000000000000001\n",
            "0000000000000000000000000000000000000000000000000000000000000000010000000000000000000000000000000001\n",
            "0000000000000000000000000000000000000000000000000000000000000000001000000000000000000000000000000001\n",
            "0000000000000000000000000000000000000000000000000000000000000000000100000000000000000000000000000001\n",
            "0000000000000000000000000000000000000000000000000000000000000000000010000000000000000000000000000001\n",
            "0000000000000000000000000000000000000000000000000000000000000000000001000000000000000000000000000001\n",
            "0000000000000000000000000000000000000000000000000000000000000000000000100000000000000000000000000001\n",
            "0000000000000000000000000000000000000000000000000000000000000000000000010000000000000000000000000001\n",
            "0000000000000000000000000000000000000000000000000000000000000000000000001000000000000000000000000001\n",
            "0000000000000000000000000000000000000000000000000000000000000000000000000100000000000000000000000001\n",
            "0000000000000000000000000000000000000000000000000000000000000000000000000010000000000000000000000001\n",
            "0000000000000000000000000000000000000000000000000000000000000000000000000001000000000000000000000001\n",
            "0000000000000000000000000000000000000000000000000000000000000000000000000000100000000000000000000001\n",
            "0000000000000000000000000000000000000000000000000000000000000000000000000000010000000000000000000001\n",
            "0000000000000000000000000000000000000000000000000000000000000000000000000000001000000000000000000001\n",
            "0000000000000000000000000000000000000000000000000000000000000000000000000000000100000000000000000001\n",
            "0000000000000000000000000000000000000000000000000000000000000000000000000000000010000000000000000001\n",
            "0000000000000000000000000000000000000000000000000000000000000000000000000000000001000000000000000001\n",
            "0000000000000000000000000000000000000000000000000000000000000000000000000000000000100000000000000001\n",
            "0000000000000000000000000000000000000000000000000000000000000000000000000000000000010000000000000001\n",
            "0000000000000000000000000000000000000000000000000000000000000000000000000000000000001000000000000001\n",
            "0000000000000000000000000000000000000000000000000000000000000000000000000000000000000100000000000001\n",
            "0000000000000000000000000000000000000000000000000000000000000000000000000000000000000010000000000001\n",
            "0000000000000000000000000000000000000000000000000000000000000000000000000000000000000001000000000001\n",
            "0000000000000000000000000000000000000000000000000000000000000000000000000000000000000000100000000001\n",
            "0000000000000000000000000000000000000000000000000000000000000000000000000000000000000000010000000001\n",
            "0000000000000000000000000000000000000000000000000000000000000000000000000000000000000000001000000001\n",
            "0000000000000000000000000000000000000000000000000000000000000000000000000000000000000000000100000001\n",
            "0000000000000000000000000000000000000000000000000000000000000000000000000000000000000000000010000001\n",
            "0000000000000000000000000000000000000000000000000000000000000000000000000000000000000000000001000001\n",
            "0000000000000000000000000000000000000000000000000000000000000000000000000000000000000000000000100001\n",
            "0000000000000000000000000000000000000000000000000000000000000000000000000000000000000000000000010001\n",
            "0000000000000000000000000000000000000000000000000000000000000000000000000000000000000000000000001001\n",
            "0000000000000000000000000000000000000000000000000000000000000000000000000000000000000000000000000101\n",
            "0000000000000000000000000000000000000000000000000000000000000000000000000000000000000000000000000011\n",
            "0000000000000000000000000000000000000000000000000000000000000000000000000000000000000000000000000000\n"
          ],
          "name": "stdout"
        }
      ]
    },
    {
      "cell_type": "markdown",
      "metadata": {
        "id": "XP9qXfbAyteC"
      },
      "source": [
        "3. Find rank of 100*100 matrix"
      ]
    },
    {
      "cell_type": "code",
      "metadata": {
        "colab": {
          "base_uri": "https://localhost:8080/"
        },
        "id": "kF_iEImmyh9e",
        "outputId": "2140a803-624e-4dcc-f60d-69db3ff09f8b"
      },
      "source": [
        "print(\"Rank = \", np.linalg.matrix_rank(matrix))"
      ],
      "execution_count": 31,
      "outputs": [
        {
          "output_type": "stream",
          "text": [
            "Rank =  98\n"
          ],
          "name": "stdout"
        }
      ]
    },
    {
      "cell_type": "markdown",
      "metadata": {
        "id": "AVMSfUp6y9By"
      },
      "source": [
        "4. Write a function to extract any particular block in that 100 *100 matrix\n"
      ]
    },
    {
      "cell_type": "code",
      "metadata": {
        "colab": {
          "base_uri": "https://localhost:8080/"
        },
        "id": "EwTT4ePdy3Lp",
        "outputId": "1db25ac2-e390-4806-e8e7-0848b41f6dd3"
      },
      "source": [
        "def extract(x,y,x1,y1):\n",
        "  block=[]\n",
        "  for i in range(y,y1):\n",
        "    row=[]\n",
        "    for j in range(x,x1):\n",
        "       row.append(matrix[i][j])\n",
        "    block.append(row)\n",
        "  return block\n",
        "print(extract(2,2,4,4))"
      ],
      "execution_count": 33,
      "outputs": [
        {
          "output_type": "stream",
          "text": [
            "[[1, 0], [0, 1]]\n"
          ],
          "name": "stdout"
        }
      ]
    },
    {
      "cell_type": "markdown",
      "metadata": {
        "id": "O3SIddlBzcJG"
      },
      "source": [
        "5. Find the inverse of first 3 by 3 matrix(starting from 0,0) of that 100*100 matrix"
      ]
    },
    {
      "cell_type": "code",
      "metadata": {
        "colab": {
          "base_uri": "https://localhost:8080/"
        },
        "id": "LTaDhOOgzOEq",
        "outputId": "2cccf840-c96b-4aac-e797-46c9e1404d06"
      },
      "source": [
        "first=[]\n",
        "for i in range(0,3):\n",
        "  row=[]\n",
        "  for j in range(0,3):\n",
        "    row.append(matrix[i][j])\n",
        "  first.append(row)\n",
        "\n",
        "inverse_matrix = np.linalg.pinv(first)\n",
        "print(inverse_matrix)\n"
      ],
      "execution_count": 32,
      "outputs": [
        {
          "output_type": "stream",
          "text": [
            "[[0. 0. 0.]\n",
            " [0. 1. 0.]\n",
            " [0. 0. 1.]]\n"
          ],
          "name": "stdout"
        }
      ]
    }
  ]
}